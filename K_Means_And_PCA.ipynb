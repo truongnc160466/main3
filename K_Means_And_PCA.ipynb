{
  "nbformat": 4,
  "nbformat_minor": 0,
  "metadata": {
    "colab": {
      "name": "K_Means_And_PCA.ipynb",
      "provenance": [],
      "collapsed_sections": [],
      "history_visible": true,
      "authorship_tag": "ABX9TyNJN/Bu0Sm29EZZ+a7wNFl8",
      "include_colab_link": true
    },
    "kernelspec": {
      "name": "python3",
      "display_name": "Python 3"
    },
    "language_info": {
      "name": "python"
    }
  },
  "cells": [
    {
      "cell_type": "markdown",
      "metadata": {
        "id": "view-in-github",
        "colab_type": "text"
      },
      "source": [
        "<a href=\"https://colab.research.google.com/github/truongnc160466/main3/blob/main/K_Means_And_PCA.ipynb\" target=\"_parent\"><img src=\"https://colab.research.google.com/assets/colab-badge.svg\" alt=\"Open In Colab\"/></a>"
      ]
    },
    {
      "cell_type": "markdown",
      "source": [
        "# Library Import"
      ],
      "metadata": {
        "id": "z81ftdW9CWru"
      }
    },
    {
      "cell_type": "code",
      "execution_count": 234,
      "metadata": {
        "id": "dHXznt7NBBJ_"
      },
      "outputs": [],
      "source": [
        "import numpy as np\n",
        "import pandas as pd\n",
        "import matplotlib.pyplot as plt\n",
        "import seaborn as sns\n",
        "sns.set()\n",
        "\n",
        "from sklearn.preprocessing import OrdinalEncoder\n",
        "# For standardizing features. We'll use the StandardScaler module\n",
        "from sklearn.preprocessing import StandardScaler\n",
        "# Sk learn is one of the most widely used libraries for machine learning. We'll use the k means and pca modules\n",
        "from sklearn.cluster import KMeans\n",
        "from sklearn.decomposition import PCA"
      ]
    },
    {
      "cell_type": "code",
      "source": [
        "# Raw dataset link\n",
        "url = 'https://raw.githubusercontent.com/truongnc160466/main1/4b453c52860c1a40065d7974bb177d32b46ff74c/annotation_sheet.csv'\n",
        "df = pd.read_csv(url)\n",
        "\n",
        "df.head()"
      ],
      "metadata": {
        "colab": {
          "base_uri": "https://localhost:8080/",
          "height": 508
        },
        "id": "bBRk-UCdCa77",
        "outputId": "ba489f8c-a18c-4f45-c345-5460be01f69e"
      },
      "execution_count": 235,
      "outputs": [
        {
          "output_type": "execute_result",
          "data": {
            "text/plain": [
              "   no  video_index student_id student_name     video_id  \\\n",
              "0   1            1        NaN          NaN  5OzrpNCyXqs   \n",
              "1   2            1        NaN          NaN  5OzrpNCyXqs   \n",
              "2   3            1        NaN          NaN  5OzrpNCyXqs   \n",
              "3   4            1        NaN          NaN  5OzrpNCyXqs   \n",
              "4   5            1        NaN          NaN  5OzrpNCyXqs   \n",
              "\n",
              "                             standardized_dish   dish_occurence dish_imply  \\\n",
              "0                        snail vermicelli soup           bun oc        NaN   \n",
              "1  vermicelli with fried tofu and shrimp paste  bun dau mam tom        NaN   \n",
              "2                            fried spring roll      spring roll        NaN   \n",
              "3                  steamed rolled rice pancake        banh cuon        NaN   \n",
              "4                                  shrimp cake      shrimp cake        NaN   \n",
              "\n",
              "   duration start_time  ...                                standardized_sauce  \\\n",
              "0       136      01:05  ...                                               NaN   \n",
              "1       158      03:32  ...  shrimp paste with spices, fish sauce with spices   \n",
              "2        47      05:23  ...                            fish sauce with spices   \n",
              "3       181      06:22  ...                            fish sauce with spices   \n",
              "4       133      09:42  ...                            fish sauce with spices   \n",
              "\n",
              "                                               sauce   venue container  \\\n",
              "0                                                NaN  street      bowl   \n",
              "1  fish sauce, fermented shrimp paste, pepper, ch...  street      tray   \n",
              "2               fish sauce, sweet spicy garlic sauce  street     plate   \n",
              "3  garlic water, fried caramelized scallion, pepp...  street     plate   \n",
              "4                           chili, sweet spicy sauce  street     plate   \n",
              "\n",
              "  recipes viewer_feeling food_feeling youtuber_feeling location  foreigner  \n",
              "0       1              4            2                5       HN          1  \n",
              "1       1              4            2                4       HN          1  \n",
              "2       0              5            2                5       HN          1  \n",
              "3       1              5            2                5       HN          1  \n",
              "4       1              4            2                5       HN          1  \n",
              "\n",
              "[5 rows x 25 columns]"
            ],
            "text/html": [
              "\n",
              "  <div id=\"df-1b7334ed-afea-4ae0-b2a0-5d67054aba4a\">\n",
              "    <div class=\"colab-df-container\">\n",
              "      <div>\n",
              "<style scoped>\n",
              "    .dataframe tbody tr th:only-of-type {\n",
              "        vertical-align: middle;\n",
              "    }\n",
              "\n",
              "    .dataframe tbody tr th {\n",
              "        vertical-align: top;\n",
              "    }\n",
              "\n",
              "    .dataframe thead th {\n",
              "        text-align: right;\n",
              "    }\n",
              "</style>\n",
              "<table border=\"1\" class=\"dataframe\">\n",
              "  <thead>\n",
              "    <tr style=\"text-align: right;\">\n",
              "      <th></th>\n",
              "      <th>no</th>\n",
              "      <th>video_index</th>\n",
              "      <th>student_id</th>\n",
              "      <th>student_name</th>\n",
              "      <th>video_id</th>\n",
              "      <th>standardized_dish</th>\n",
              "      <th>dish_occurence</th>\n",
              "      <th>dish_imply</th>\n",
              "      <th>duration</th>\n",
              "      <th>start_time</th>\n",
              "      <th>...</th>\n",
              "      <th>standardized_sauce</th>\n",
              "      <th>sauce</th>\n",
              "      <th>venue</th>\n",
              "      <th>container</th>\n",
              "      <th>recipes</th>\n",
              "      <th>viewer_feeling</th>\n",
              "      <th>food_feeling</th>\n",
              "      <th>youtuber_feeling</th>\n",
              "      <th>location</th>\n",
              "      <th>foreigner</th>\n",
              "    </tr>\n",
              "  </thead>\n",
              "  <tbody>\n",
              "    <tr>\n",
              "      <th>0</th>\n",
              "      <td>1</td>\n",
              "      <td>1</td>\n",
              "      <td>NaN</td>\n",
              "      <td>NaN</td>\n",
              "      <td>5OzrpNCyXqs</td>\n",
              "      <td>snail vermicelli soup</td>\n",
              "      <td>bun oc</td>\n",
              "      <td>NaN</td>\n",
              "      <td>136</td>\n",
              "      <td>01:05</td>\n",
              "      <td>...</td>\n",
              "      <td>NaN</td>\n",
              "      <td>NaN</td>\n",
              "      <td>street</td>\n",
              "      <td>bowl</td>\n",
              "      <td>1</td>\n",
              "      <td>4</td>\n",
              "      <td>2</td>\n",
              "      <td>5</td>\n",
              "      <td>HN</td>\n",
              "      <td>1</td>\n",
              "    </tr>\n",
              "    <tr>\n",
              "      <th>1</th>\n",
              "      <td>2</td>\n",
              "      <td>1</td>\n",
              "      <td>NaN</td>\n",
              "      <td>NaN</td>\n",
              "      <td>5OzrpNCyXqs</td>\n",
              "      <td>vermicelli with fried tofu and shrimp paste</td>\n",
              "      <td>bun dau mam tom</td>\n",
              "      <td>NaN</td>\n",
              "      <td>158</td>\n",
              "      <td>03:32</td>\n",
              "      <td>...</td>\n",
              "      <td>shrimp paste with spices, fish sauce with spices</td>\n",
              "      <td>fish sauce, fermented shrimp paste, pepper, ch...</td>\n",
              "      <td>street</td>\n",
              "      <td>tray</td>\n",
              "      <td>1</td>\n",
              "      <td>4</td>\n",
              "      <td>2</td>\n",
              "      <td>4</td>\n",
              "      <td>HN</td>\n",
              "      <td>1</td>\n",
              "    </tr>\n",
              "    <tr>\n",
              "      <th>2</th>\n",
              "      <td>3</td>\n",
              "      <td>1</td>\n",
              "      <td>NaN</td>\n",
              "      <td>NaN</td>\n",
              "      <td>5OzrpNCyXqs</td>\n",
              "      <td>fried spring roll</td>\n",
              "      <td>spring roll</td>\n",
              "      <td>NaN</td>\n",
              "      <td>47</td>\n",
              "      <td>05:23</td>\n",
              "      <td>...</td>\n",
              "      <td>fish sauce with spices</td>\n",
              "      <td>fish sauce, sweet spicy garlic sauce</td>\n",
              "      <td>street</td>\n",
              "      <td>plate</td>\n",
              "      <td>0</td>\n",
              "      <td>5</td>\n",
              "      <td>2</td>\n",
              "      <td>5</td>\n",
              "      <td>HN</td>\n",
              "      <td>1</td>\n",
              "    </tr>\n",
              "    <tr>\n",
              "      <th>3</th>\n",
              "      <td>4</td>\n",
              "      <td>1</td>\n",
              "      <td>NaN</td>\n",
              "      <td>NaN</td>\n",
              "      <td>5OzrpNCyXqs</td>\n",
              "      <td>steamed rolled rice pancake</td>\n",
              "      <td>banh cuon</td>\n",
              "      <td>NaN</td>\n",
              "      <td>181</td>\n",
              "      <td>06:22</td>\n",
              "      <td>...</td>\n",
              "      <td>fish sauce with spices</td>\n",
              "      <td>garlic water, fried caramelized scallion, pepp...</td>\n",
              "      <td>street</td>\n",
              "      <td>plate</td>\n",
              "      <td>1</td>\n",
              "      <td>5</td>\n",
              "      <td>2</td>\n",
              "      <td>5</td>\n",
              "      <td>HN</td>\n",
              "      <td>1</td>\n",
              "    </tr>\n",
              "    <tr>\n",
              "      <th>4</th>\n",
              "      <td>5</td>\n",
              "      <td>1</td>\n",
              "      <td>NaN</td>\n",
              "      <td>NaN</td>\n",
              "      <td>5OzrpNCyXqs</td>\n",
              "      <td>shrimp cake</td>\n",
              "      <td>shrimp cake</td>\n",
              "      <td>NaN</td>\n",
              "      <td>133</td>\n",
              "      <td>09:42</td>\n",
              "      <td>...</td>\n",
              "      <td>fish sauce with spices</td>\n",
              "      <td>chili, sweet spicy sauce</td>\n",
              "      <td>street</td>\n",
              "      <td>plate</td>\n",
              "      <td>1</td>\n",
              "      <td>4</td>\n",
              "      <td>2</td>\n",
              "      <td>5</td>\n",
              "      <td>HN</td>\n",
              "      <td>1</td>\n",
              "    </tr>\n",
              "  </tbody>\n",
              "</table>\n",
              "<p>5 rows × 25 columns</p>\n",
              "</div>\n",
              "      <button class=\"colab-df-convert\" onclick=\"convertToInteractive('df-1b7334ed-afea-4ae0-b2a0-5d67054aba4a')\"\n",
              "              title=\"Convert this dataframe to an interactive table.\"\n",
              "              style=\"display:none;\">\n",
              "        \n",
              "  <svg xmlns=\"http://www.w3.org/2000/svg\" height=\"24px\"viewBox=\"0 0 24 24\"\n",
              "       width=\"24px\">\n",
              "    <path d=\"M0 0h24v24H0V0z\" fill=\"none\"/>\n",
              "    <path d=\"M18.56 5.44l.94 2.06.94-2.06 2.06-.94-2.06-.94-.94-2.06-.94 2.06-2.06.94zm-11 1L8.5 8.5l.94-2.06 2.06-.94-2.06-.94L8.5 2.5l-.94 2.06-2.06.94zm10 10l.94 2.06.94-2.06 2.06-.94-2.06-.94-.94-2.06-.94 2.06-2.06.94z\"/><path d=\"M17.41 7.96l-1.37-1.37c-.4-.4-.92-.59-1.43-.59-.52 0-1.04.2-1.43.59L10.3 9.45l-7.72 7.72c-.78.78-.78 2.05 0 2.83L4 21.41c.39.39.9.59 1.41.59.51 0 1.02-.2 1.41-.59l7.78-7.78 2.81-2.81c.8-.78.8-2.07 0-2.86zM5.41 20L4 18.59l7.72-7.72 1.47 1.35L5.41 20z\"/>\n",
              "  </svg>\n",
              "      </button>\n",
              "      \n",
              "  <style>\n",
              "    .colab-df-container {\n",
              "      display:flex;\n",
              "      flex-wrap:wrap;\n",
              "      gap: 12px;\n",
              "    }\n",
              "\n",
              "    .colab-df-convert {\n",
              "      background-color: #E8F0FE;\n",
              "      border: none;\n",
              "      border-radius: 50%;\n",
              "      cursor: pointer;\n",
              "      display: none;\n",
              "      fill: #1967D2;\n",
              "      height: 32px;\n",
              "      padding: 0 0 0 0;\n",
              "      width: 32px;\n",
              "    }\n",
              "\n",
              "    .colab-df-convert:hover {\n",
              "      background-color: #E2EBFA;\n",
              "      box-shadow: 0px 1px 2px rgba(60, 64, 67, 0.3), 0px 1px 3px 1px rgba(60, 64, 67, 0.15);\n",
              "      fill: #174EA6;\n",
              "    }\n",
              "\n",
              "    [theme=dark] .colab-df-convert {\n",
              "      background-color: #3B4455;\n",
              "      fill: #D2E3FC;\n",
              "    }\n",
              "\n",
              "    [theme=dark] .colab-df-convert:hover {\n",
              "      background-color: #434B5C;\n",
              "      box-shadow: 0px 1px 3px 1px rgba(0, 0, 0, 0.15);\n",
              "      filter: drop-shadow(0px 1px 2px rgba(0, 0, 0, 0.3));\n",
              "      fill: #FFFFFF;\n",
              "    }\n",
              "  </style>\n",
              "\n",
              "      <script>\n",
              "        const buttonEl =\n",
              "          document.querySelector('#df-1b7334ed-afea-4ae0-b2a0-5d67054aba4a button.colab-df-convert');\n",
              "        buttonEl.style.display =\n",
              "          google.colab.kernel.accessAllowed ? 'block' : 'none';\n",
              "\n",
              "        async function convertToInteractive(key) {\n",
              "          const element = document.querySelector('#df-1b7334ed-afea-4ae0-b2a0-5d67054aba4a');\n",
              "          const dataTable =\n",
              "            await google.colab.kernel.invokeFunction('convertToInteractive',\n",
              "                                                     [key], {});\n",
              "          if (!dataTable) return;\n",
              "\n",
              "          const docLinkHtml = 'Like what you see? Visit the ' +\n",
              "            '<a target=\"_blank\" href=https://colab.research.google.com/notebooks/data_table.ipynb>data table notebook</a>'\n",
              "            + ' to learn more about interactive tables.';\n",
              "          element.innerHTML = '';\n",
              "          dataTable['output_type'] = 'display_data';\n",
              "          await google.colab.output.renderOutput(dataTable, element);\n",
              "          const docLink = document.createElement('div');\n",
              "          docLink.innerHTML = docLinkHtml;\n",
              "          element.appendChild(docLink);\n",
              "        }\n",
              "      </script>\n",
              "    </div>\n",
              "  </div>\n",
              "  "
            ]
          },
          "metadata": {},
          "execution_count": 235
        }
      ]
    },
    {
      "cell_type": "code",
      "source": [
        "print('Dataframe info: ')\n",
        "df.info()\n",
        "print('\\n\\n')\n",
        "print('Dataframe description: ')\n",
        "df.describe().transpose()"
      ],
      "metadata": {
        "colab": {
          "base_uri": "https://localhost:8080/",
          "height": 973
        },
        "id": "veopJ1TrMTXV",
        "outputId": "46f42b2f-5668-401e-a869-8ecb2e2dd4e6"
      },
      "execution_count": 236,
      "outputs": [
        {
          "output_type": "stream",
          "name": "stdout",
          "text": [
            "Dataframe info: \n",
            "<class 'pandas.core.frame.DataFrame'>\n",
            "RangeIndex: 3757 entries, 0 to 3756\n",
            "Data columns (total 25 columns):\n",
            " #   Column                          Non-Null Count  Dtype \n",
            "---  ------                          --------------  ----- \n",
            " 0   no                              3757 non-null   int64 \n",
            " 1   video_index                     3757 non-null   int64 \n",
            " 2   student_id                      2884 non-null   object\n",
            " 3   student_name                    2884 non-null   object\n",
            " 4   video_id                        3757 non-null   object\n",
            " 5   standardized_dish               3757 non-null   object\n",
            " 6   dish_occurence                  3313 non-null   object\n",
            " 7   dish_imply                      3159 non-null   object\n",
            " 8   duration                        3757 non-null   int64 \n",
            " 9   start_time                      3757 non-null   object\n",
            " 10  end_time                        3757 non-null   object\n",
            " 11  standardized_ingredient         3119 non-null   object\n",
            " 12  no_ingredient                   3757 non-null   int64 \n",
            " 13  ingredient                      2881 non-null   object\n",
            " 14  standardized_sauce_ingredients  869 non-null    object\n",
            " 15  standardized_sauce              984 non-null    object\n",
            " 16  sauce                           971 non-null    object\n",
            " 17  venue                           3757 non-null   object\n",
            " 18  container                       3757 non-null   object\n",
            " 19  recipes                         3757 non-null   int64 \n",
            " 20  viewer_feeling                  3757 non-null   int64 \n",
            " 21  food_feeling                    3757 non-null   int64 \n",
            " 22  youtuber_feeling                3757 non-null   int64 \n",
            " 23  location                        3704 non-null   object\n",
            " 24  foreigner                       3757 non-null   int64 \n",
            "dtypes: int64(9), object(16)\n",
            "memory usage: 733.9+ KB\n",
            "\n",
            "\n",
            "\n",
            "Dataframe description: \n"
          ]
        },
        {
          "output_type": "execute_result",
          "data": {
            "text/plain": [
              "                   count         mean          std  min    25%     50%  \\\n",
              "no                3757.0  1879.000000  1084.696809  1.0  940.0  1879.0   \n",
              "video_index       3757.0   515.537131   315.761411  1.0  234.0   527.0   \n",
              "duration          3757.0   110.310088   921.869713  0.0   26.0    60.0   \n",
              "no_ingredient     3757.0     3.284802     2.806564  0.0    1.0     3.0   \n",
              "recipes           3757.0     0.274421     0.446281  0.0    0.0     0.0   \n",
              "viewer_feeling    3757.0     3.740484     0.925898  1.0    3.0     4.0   \n",
              "food_feeling      3757.0     3.412563     1.172153  1.0    2.0     4.0   \n",
              "youtuber_feeling  3757.0     4.195369     0.860721  1.0    4.0     4.0   \n",
              "foreigner         3757.0     0.933191     0.249724  0.0    1.0     1.0   \n",
              "\n",
              "                     75%      max  \n",
              "no                2818.0   3757.0  \n",
              "video_index        786.0   1068.0  \n",
              "duration           118.0  55958.0  \n",
              "no_ingredient        5.0     20.0  \n",
              "recipes              1.0      1.0  \n",
              "viewer_feeling       4.0      5.0  \n",
              "food_feeling         4.0      5.0  \n",
              "youtuber_feeling     5.0      5.0  \n",
              "foreigner            1.0      1.0  "
            ],
            "text/html": [
              "\n",
              "  <div id=\"df-b6e58535-777a-4f93-bc3a-98c271fe52d5\">\n",
              "    <div class=\"colab-df-container\">\n",
              "      <div>\n",
              "<style scoped>\n",
              "    .dataframe tbody tr th:only-of-type {\n",
              "        vertical-align: middle;\n",
              "    }\n",
              "\n",
              "    .dataframe tbody tr th {\n",
              "        vertical-align: top;\n",
              "    }\n",
              "\n",
              "    .dataframe thead th {\n",
              "        text-align: right;\n",
              "    }\n",
              "</style>\n",
              "<table border=\"1\" class=\"dataframe\">\n",
              "  <thead>\n",
              "    <tr style=\"text-align: right;\">\n",
              "      <th></th>\n",
              "      <th>count</th>\n",
              "      <th>mean</th>\n",
              "      <th>std</th>\n",
              "      <th>min</th>\n",
              "      <th>25%</th>\n",
              "      <th>50%</th>\n",
              "      <th>75%</th>\n",
              "      <th>max</th>\n",
              "    </tr>\n",
              "  </thead>\n",
              "  <tbody>\n",
              "    <tr>\n",
              "      <th>no</th>\n",
              "      <td>3757.0</td>\n",
              "      <td>1879.000000</td>\n",
              "      <td>1084.696809</td>\n",
              "      <td>1.0</td>\n",
              "      <td>940.0</td>\n",
              "      <td>1879.0</td>\n",
              "      <td>2818.0</td>\n",
              "      <td>3757.0</td>\n",
              "    </tr>\n",
              "    <tr>\n",
              "      <th>video_index</th>\n",
              "      <td>3757.0</td>\n",
              "      <td>515.537131</td>\n",
              "      <td>315.761411</td>\n",
              "      <td>1.0</td>\n",
              "      <td>234.0</td>\n",
              "      <td>527.0</td>\n",
              "      <td>786.0</td>\n",
              "      <td>1068.0</td>\n",
              "    </tr>\n",
              "    <tr>\n",
              "      <th>duration</th>\n",
              "      <td>3757.0</td>\n",
              "      <td>110.310088</td>\n",
              "      <td>921.869713</td>\n",
              "      <td>0.0</td>\n",
              "      <td>26.0</td>\n",
              "      <td>60.0</td>\n",
              "      <td>118.0</td>\n",
              "      <td>55958.0</td>\n",
              "    </tr>\n",
              "    <tr>\n",
              "      <th>no_ingredient</th>\n",
              "      <td>3757.0</td>\n",
              "      <td>3.284802</td>\n",
              "      <td>2.806564</td>\n",
              "      <td>0.0</td>\n",
              "      <td>1.0</td>\n",
              "      <td>3.0</td>\n",
              "      <td>5.0</td>\n",
              "      <td>20.0</td>\n",
              "    </tr>\n",
              "    <tr>\n",
              "      <th>recipes</th>\n",
              "      <td>3757.0</td>\n",
              "      <td>0.274421</td>\n",
              "      <td>0.446281</td>\n",
              "      <td>0.0</td>\n",
              "      <td>0.0</td>\n",
              "      <td>0.0</td>\n",
              "      <td>1.0</td>\n",
              "      <td>1.0</td>\n",
              "    </tr>\n",
              "    <tr>\n",
              "      <th>viewer_feeling</th>\n",
              "      <td>3757.0</td>\n",
              "      <td>3.740484</td>\n",
              "      <td>0.925898</td>\n",
              "      <td>1.0</td>\n",
              "      <td>3.0</td>\n",
              "      <td>4.0</td>\n",
              "      <td>4.0</td>\n",
              "      <td>5.0</td>\n",
              "    </tr>\n",
              "    <tr>\n",
              "      <th>food_feeling</th>\n",
              "      <td>3757.0</td>\n",
              "      <td>3.412563</td>\n",
              "      <td>1.172153</td>\n",
              "      <td>1.0</td>\n",
              "      <td>2.0</td>\n",
              "      <td>4.0</td>\n",
              "      <td>4.0</td>\n",
              "      <td>5.0</td>\n",
              "    </tr>\n",
              "    <tr>\n",
              "      <th>youtuber_feeling</th>\n",
              "      <td>3757.0</td>\n",
              "      <td>4.195369</td>\n",
              "      <td>0.860721</td>\n",
              "      <td>1.0</td>\n",
              "      <td>4.0</td>\n",
              "      <td>4.0</td>\n",
              "      <td>5.0</td>\n",
              "      <td>5.0</td>\n",
              "    </tr>\n",
              "    <tr>\n",
              "      <th>foreigner</th>\n",
              "      <td>3757.0</td>\n",
              "      <td>0.933191</td>\n",
              "      <td>0.249724</td>\n",
              "      <td>0.0</td>\n",
              "      <td>1.0</td>\n",
              "      <td>1.0</td>\n",
              "      <td>1.0</td>\n",
              "      <td>1.0</td>\n",
              "    </tr>\n",
              "  </tbody>\n",
              "</table>\n",
              "</div>\n",
              "      <button class=\"colab-df-convert\" onclick=\"convertToInteractive('df-b6e58535-777a-4f93-bc3a-98c271fe52d5')\"\n",
              "              title=\"Convert this dataframe to an interactive table.\"\n",
              "              style=\"display:none;\">\n",
              "        \n",
              "  <svg xmlns=\"http://www.w3.org/2000/svg\" height=\"24px\"viewBox=\"0 0 24 24\"\n",
              "       width=\"24px\">\n",
              "    <path d=\"M0 0h24v24H0V0z\" fill=\"none\"/>\n",
              "    <path d=\"M18.56 5.44l.94 2.06.94-2.06 2.06-.94-2.06-.94-.94-2.06-.94 2.06-2.06.94zm-11 1L8.5 8.5l.94-2.06 2.06-.94-2.06-.94L8.5 2.5l-.94 2.06-2.06.94zm10 10l.94 2.06.94-2.06 2.06-.94-2.06-.94-.94-2.06-.94 2.06-2.06.94z\"/><path d=\"M17.41 7.96l-1.37-1.37c-.4-.4-.92-.59-1.43-.59-.52 0-1.04.2-1.43.59L10.3 9.45l-7.72 7.72c-.78.78-.78 2.05 0 2.83L4 21.41c.39.39.9.59 1.41.59.51 0 1.02-.2 1.41-.59l7.78-7.78 2.81-2.81c.8-.78.8-2.07 0-2.86zM5.41 20L4 18.59l7.72-7.72 1.47 1.35L5.41 20z\"/>\n",
              "  </svg>\n",
              "      </button>\n",
              "      \n",
              "  <style>\n",
              "    .colab-df-container {\n",
              "      display:flex;\n",
              "      flex-wrap:wrap;\n",
              "      gap: 12px;\n",
              "    }\n",
              "\n",
              "    .colab-df-convert {\n",
              "      background-color: #E8F0FE;\n",
              "      border: none;\n",
              "      border-radius: 50%;\n",
              "      cursor: pointer;\n",
              "      display: none;\n",
              "      fill: #1967D2;\n",
              "      height: 32px;\n",
              "      padding: 0 0 0 0;\n",
              "      width: 32px;\n",
              "    }\n",
              "\n",
              "    .colab-df-convert:hover {\n",
              "      background-color: #E2EBFA;\n",
              "      box-shadow: 0px 1px 2px rgba(60, 64, 67, 0.3), 0px 1px 3px 1px rgba(60, 64, 67, 0.15);\n",
              "      fill: #174EA6;\n",
              "    }\n",
              "\n",
              "    [theme=dark] .colab-df-convert {\n",
              "      background-color: #3B4455;\n",
              "      fill: #D2E3FC;\n",
              "    }\n",
              "\n",
              "    [theme=dark] .colab-df-convert:hover {\n",
              "      background-color: #434B5C;\n",
              "      box-shadow: 0px 1px 3px 1px rgba(0, 0, 0, 0.15);\n",
              "      filter: drop-shadow(0px 1px 2px rgba(0, 0, 0, 0.3));\n",
              "      fill: #FFFFFF;\n",
              "    }\n",
              "  </style>\n",
              "\n",
              "      <script>\n",
              "        const buttonEl =\n",
              "          document.querySelector('#df-b6e58535-777a-4f93-bc3a-98c271fe52d5 button.colab-df-convert');\n",
              "        buttonEl.style.display =\n",
              "          google.colab.kernel.accessAllowed ? 'block' : 'none';\n",
              "\n",
              "        async function convertToInteractive(key) {\n",
              "          const element = document.querySelector('#df-b6e58535-777a-4f93-bc3a-98c271fe52d5');\n",
              "          const dataTable =\n",
              "            await google.colab.kernel.invokeFunction('convertToInteractive',\n",
              "                                                     [key], {});\n",
              "          if (!dataTable) return;\n",
              "\n",
              "          const docLinkHtml = 'Like what you see? Visit the ' +\n",
              "            '<a target=\"_blank\" href=https://colab.research.google.com/notebooks/data_table.ipynb>data table notebook</a>'\n",
              "            + ' to learn more about interactive tables.';\n",
              "          element.innerHTML = '';\n",
              "          dataTable['output_type'] = 'display_data';\n",
              "          await google.colab.output.renderOutput(dataTable, element);\n",
              "          const docLink = document.createElement('div');\n",
              "          docLink.innerHTML = docLinkHtml;\n",
              "          element.appendChild(docLink);\n",
              "        }\n",
              "      </script>\n",
              "    </div>\n",
              "  </div>\n",
              "  "
            ]
          },
          "metadata": {},
          "execution_count": 236
        }
      ]
    },
    {
      "cell_type": "markdown",
      "source": [
        "# Data Preprocessing"
      ],
      "metadata": {
        "id": "2kjPKiE-SCL-"
      }
    },
    {
      "cell_type": "markdown",
      "source": [
        "1 - Ordinal Encoding (Columns = venue, container)"
      ],
      "metadata": {
        "id": "Q4xukihESRFE"
      }
    },
    {
      "cell_type": "code",
      "source": [
        "enc = OrdinalEncoder()\n",
        "df['venue'] = enc.fit_transform(df[['venue']])\n",
        "df['container'] = enc.fit_transform(df[['container']])"
      ],
      "metadata": {
        "id": "YGYghNohhOLm"
      },
      "execution_count": 237,
      "outputs": []
    },
    {
      "cell_type": "code",
      "source": [
        "df_drop = df.drop(['no','video_index', 'student_id', 'student_name', 'video_id', 'standardized_dish', 'dish_occurence', 'dish_imply', \n",
        "         'start_time', 'end_time', 'standardized_ingredient', 'ingredient', 'standardized_sauce_ingredients', 'standardized_sauce', 'sauce',\n",
        "         'food_feeling', 'youtuber_feeling', 'location', 'foreigner'], axis = 1)"
      ],
      "metadata": {
        "id": "7g90LB-jWggd"
      },
      "execution_count": 238,
      "outputs": []
    },
    {
      "cell_type": "markdown",
      "source": [
        "2 - Data Scaling (Columns = duration, no_ingredient)"
      ],
      "metadata": {
        "id": "doAOyrYYSgQe"
      }
    },
    {
      "cell_type": "code",
      "source": [
        "scaler = StandardScaler()\n",
        "df_drop[[\"duration\"]] = scaler.fit_transform(df_drop[[\"duration\"]])\n",
        "df_drop[[\"no_ingredient\"]] = scaler.fit_transform(df_drop[[\"no_ingredient\"]])"
      ],
      "metadata": {
        "id": "iAIoF1YdSh7Z"
      },
      "execution_count": 239,
      "outputs": []
    },
    {
      "cell_type": "markdown",
      "source": [
        "3 - Show all features"
      ],
      "metadata": {
        "id": "wnfNFMHOVfY0"
      }
    },
    {
      "cell_type": "code",
      "source": [
        "df_final = df_drop.drop(['viewer_feeling'], axis = 1)\n",
        "df_final.info()"
      ],
      "metadata": {
        "colab": {
          "base_uri": "https://localhost:8080/"
        },
        "id": "iREexmQoVc8I",
        "outputId": "dc41d5c4-635c-480e-d305-62c6d16ff718"
      },
      "execution_count": 240,
      "outputs": [
        {
          "output_type": "stream",
          "name": "stdout",
          "text": [
            "<class 'pandas.core.frame.DataFrame'>\n",
            "RangeIndex: 3757 entries, 0 to 3756\n",
            "Data columns (total 5 columns):\n",
            " #   Column         Non-Null Count  Dtype  \n",
            "---  ------         --------------  -----  \n",
            " 0   duration       3757 non-null   float64\n",
            " 1   no_ingredient  3757 non-null   float64\n",
            " 2   venue          3757 non-null   float64\n",
            " 3   container      3757 non-null   float64\n",
            " 4   recipes        3757 non-null   int64  \n",
            "dtypes: float64(4), int64(1)\n",
            "memory usage: 146.9 KB\n"
          ]
        }
      ]
    },
    {
      "cell_type": "markdown",
      "source": [
        "4 - Plot the original data"
      ],
      "metadata": {
        "id": "VGNfImHgGps5"
      }
    },
    {
      "cell_type": "code",
      "source": [
        "# We'll plot the data. We create a 12 by 9 inches figure\n",
        "# We have 3757 data points, which we'll scatter across No_Ingredient and Duration, located on positions 1 and 0 respectively in our data set\n",
        "plt.figure(figsize = (12, 9))\n",
        "plt.scatter(df_final.iloc[:, 1], df_final.iloc[:, 0])\n",
        "plt.xlabel('No_Ingredient')\n",
        "plt.ylabel('Duration')\n",
        "plt.title('Visualization of raw data')"
      ],
      "metadata": {
        "colab": {
          "base_uri": "https://localhost:8080/",
          "height": 590
        },
        "id": "ofiDLFmSMrsG",
        "outputId": "5ed05058-e3de-4249-d2d4-26ba843b192f"
      },
      "execution_count": 241,
      "outputs": [
        {
          "output_type": "execute_result",
          "data": {
            "text/plain": [
              "Text(0.5, 1.0, 'Visualization of raw data')"
            ]
          },
          "metadata": {},
          "execution_count": 241
        },
        {
          "output_type": "display_data",
          "data": {
            "text/plain": [
              "<Figure size 864x648 with 1 Axes>"
            ],
            "image/png": "[encoded data removed]"
          },
          "metadata": {}
        }
      ]
    },
    {
      "cell_type": "markdown",
      "source": [
        "# PCA"
      ],
      "metadata": {
        "id": "DC9mFQjmVxzz"
      }
    },
    {
      "cell_type": "code",
      "source": [
        "df_final.head()"
      ],
      "metadata": {
        "colab": {
          "base_uri": "https://localhost:8080/",
          "height": 206
        },
        "id": "RvjI1u9EjrdT",
        "outputId": "81f1732e-d2af-45fe-fe96-a4bfd80acf30"
      },
      "execution_count": 242,
      "outputs": [
        {
          "output_type": "execute_result",
          "data": {
            "text/plain": [
              "   duration  no_ingredient  venue  container  recipes\n",
              "0  0.027871       2.036640    3.0        2.0        1\n",
              "1  0.051739       2.749350    3.0        9.0        1\n",
              "2 -0.068685       0.254865    3.0        7.0        0\n",
              "3  0.076691       0.611220    3.0        7.0        1\n",
              "4  0.024616       0.254865    3.0        7.0        1"
            ],
            "text/html": [
              "\n",
              "  <div id=\"df-e16083e1-4ef7-44cf-b8cd-2a19bb8fbc6b\">\n",
              "    <div class=\"colab-df-container\">\n",
              "      <div>\n",
              "<style scoped>\n",
              "    .dataframe tbody tr th:only-of-type {\n",
              "        vertical-align: middle;\n",
              "    }\n",
              "\n",
              "    .dataframe tbody tr th {\n",
              "        vertical-align: top;\n",
              "    }\n",
              "\n",
              "    .dataframe thead th {\n",
              "        text-align: right;\n",
              "    }\n",
              "</style>\n",
              "<table border=\"1\" class=\"dataframe\">\n",
              "  <thead>\n",
              "    <tr style=\"text-align: right;\">\n",
              "      <th></th>\n",
              "      <th>duration</th>\n",
              "      <th>no_ingredient</th>\n",
              "      <th>venue</th>\n",
              "      <th>container</th>\n",
              "      <th>recipes</th>\n",
              "    </tr>\n",
              "  </thead>\n",
              "  <tbody>\n",
              "    <tr>\n",
              "      <th>0</th>\n",
              "      <td>0.027871</td>\n",
              "      <td>2.036640</td>\n",
              "      <td>3.0</td>\n",
              "      <td>2.0</td>\n",
              "      <td>1</td>\n",
              "    </tr>\n",
              "    <tr>\n",
              "      <th>1</th>\n",
              "      <td>0.051739</td>\n",
              "      <td>2.749350</td>\n",
              "      <td>3.0</td>\n",
              "      <td>9.0</td>\n",
              "      <td>1</td>\n",
              "    </tr>\n",
              "    <tr>\n",
              "      <th>2</th>\n",
              "      <td>-0.068685</td>\n",
              "      <td>0.254865</td>\n",
              "      <td>3.0</td>\n",
              "      <td>7.0</td>\n",
              "      <td>0</td>\n",
              "    </tr>\n",
              "    <tr>\n",
              "      <th>3</th>\n",
              "      <td>0.076691</td>\n",
              "      <td>0.611220</td>\n",
              "      <td>3.0</td>\n",
              "      <td>7.0</td>\n",
              "      <td>1</td>\n",
              "    </tr>\n",
              "    <tr>\n",
              "      <th>4</th>\n",
              "      <td>0.024616</td>\n",
              "      <td>0.254865</td>\n",
              "      <td>3.0</td>\n",
              "      <td>7.0</td>\n",
              "      <td>1</td>\n",
              "    </tr>\n",
              "  </tbody>\n",
              "</table>\n",
              "</div>\n",
              "      <button class=\"colab-df-convert\" onclick=\"convertToInteractive('df-e16083e1-4ef7-44cf-b8cd-2a19bb8fbc6b')\"\n",
              "              title=\"Convert this dataframe to an interactive table.\"\n",
              "              style=\"display:none;\">\n",
              "        \n",
              "  <svg xmlns=\"http://www.w3.org/2000/svg\" height=\"24px\"viewBox=\"0 0 24 24\"\n",
              "       width=\"24px\">\n",
              "    <path d=\"M0 0h24v24H0V0z\" fill=\"none\"/>\n",
              "    <path d=\"M18.56 5.44l.94 2.06.94-2.06 2.06-.94-2.06-.94-.94-2.06-.94 2.06-2.06.94zm-11 1L8.5 8.5l.94-2.06 2.06-.94-2.06-.94L8.5 2.5l-.94 2.06-2.06.94zm10 10l.94 2.06.94-2.06 2.06-.94-2.06-.94-.94-2.06-.94 2.06-2.06.94z\"/><path d=\"M17.41 7.96l-1.37-1.37c-.4-.4-.92-.59-1.43-.59-.52 0-1.04.2-1.43.59L10.3 9.45l-7.72 7.72c-.78.78-.78 2.05 0 2.83L4 21.41c.39.39.9.59 1.41.59.51 0 1.02-.2 1.41-.59l7.78-7.78 2.81-2.81c.8-.78.8-2.07 0-2.86zM5.41 20L4 18.59l7.72-7.72 1.47 1.35L5.41 20z\"/>\n",
              "  </svg>\n",
              "      </button>\n",
              "      \n",
              "  <style>\n",
              "    .colab-df-container {\n",
              "      display:flex;\n",
              "      flex-wrap:wrap;\n",
              "      gap: 12px;\n",
              "    }\n",
              "\n",
              "    .colab-df-convert {\n",
              "      background-color: #E8F0FE;\n",
              "      border: none;\n",
              "      border-radius: 50%;\n",
              "      cursor: pointer;\n",
              "      display: none;\n",
              "      fill: #1967D2;\n",
              "      height: 32px;\n",
              "      padding: 0 0 0 0;\n",
              "      width: 32px;\n",
              "    }\n",
              "\n",
              "    .colab-df-convert:hover {\n",
              "      background-color: #E2EBFA;\n",
              "      box-shadow: 0px 1px 2px rgba(60, 64, 67, 0.3), 0px 1px 3px 1px rgba(60, 64, 67, 0.15);\n",
              "      fill: #174EA6;\n",
              "    }\n",
              "\n",
              "    [theme=dark] .colab-df-convert {\n",
              "      background-color: #3B4455;\n",
              "      fill: #D2E3FC;\n",
              "    }\n",
              "\n",
              "    [theme=dark] .colab-df-convert:hover {\n",
              "      background-color: #434B5C;\n",
              "      box-shadow: 0px 1px 3px 1px rgba(0, 0, 0, 0.15);\n",
              "      filter: drop-shadow(0px 1px 2px rgba(0, 0, 0, 0.3));\n",
              "      fill: #FFFFFF;\n",
              "    }\n",
              "  </style>\n",
              "\n",
              "      <script>\n",
              "        const buttonEl =\n",
              "          document.querySelector('#df-e16083e1-4ef7-44cf-b8cd-2a19bb8fbc6b button.colab-df-convert');\n",
              "        buttonEl.style.display =\n",
              "          google.colab.kernel.accessAllowed ? 'block' : 'none';\n",
              "\n",
              "        async function convertToInteractive(key) {\n",
              "          const element = document.querySelector('#df-e16083e1-4ef7-44cf-b8cd-2a19bb8fbc6b');\n",
              "          const dataTable =\n",
              "            await google.colab.kernel.invokeFunction('convertToInteractive',\n",
              "                                                     [key], {});\n",
              "          if (!dataTable) return;\n",
              "\n",
              "          const docLinkHtml = 'Like what you see? Visit the ' +\n",
              "            '<a target=\"_blank\" href=https://colab.research.google.com/notebooks/data_table.ipynb>data table notebook</a>'\n",
              "            + ' to learn more about interactive tables.';\n",
              "          element.innerHTML = '';\n",
              "          dataTable['output_type'] = 'display_data';\n",
              "          await google.colab.output.renderOutput(dataTable, element);\n",
              "          const docLink = document.createElement('div');\n",
              "          docLink.innerHTML = docLinkHtml;\n",
              "          element.appendChild(docLink);\n",
              "        }\n",
              "      </script>\n",
              "    </div>\n",
              "  </div>\n",
              "  "
            ]
          },
          "metadata": {},
          "execution_count": 242
        }
      ]
    },
    {
      "cell_type": "code",
      "source": [
        "pca = PCA()\n",
        "pca.fit(df_final)"
      ],
      "metadata": {
        "colab": {
          "base_uri": "https://localhost:8080/"
        },
        "id": "QT8Iz0JHVwiy",
        "outputId": "477d3f92-f116-4f71-a8d1-2dc5b0591f93"
      },
      "execution_count": 243,
      "outputs": [
        {
          "output_type": "execute_result",
          "data": {
            "text/plain": [
              "PCA()"
            ]
          },
          "metadata": {},
          "execution_count": 243
        }
      ]
    },
    {
      "cell_type": "code",
      "source": [
        "# The attribute shows how much variance is explained by each of five individual components\n",
        "pca.explained_variance_ratio_"
      ],
      "metadata": {
        "colab": {
          "base_uri": "https://localhost:8080/"
        },
        "id": "UiTN0_C_ebVj",
        "outputId": "03ed7258-46ce-4cc5-c0df-45b071e8e2c0"
      },
      "execution_count": 244,
      "outputs": [
        {
          "output_type": "execute_result",
          "data": {
            "text/plain": [
              "array([0.55610995, 0.20702388, 0.11376623, 0.10438739, 0.01871254])"
            ]
          },
          "metadata": {},
          "execution_count": 244
        }
      ]
    },
    {
      "cell_type": "code",
      "source": [
        "plt.figure(figsize = (10, 8))\n",
        "plt.plot(range(1, 6), pca.explained_variance_ratio_.cumsum(), marker = 'o', linestyle = '--')\n",
        "plt.title('Explained Variance by Components')\n",
        "plt.xlabel('Number of Components')\n",
        "plt.ylabel('Cumulative Explained Variance')"
      ],
      "metadata": {
        "colab": {
          "base_uri": "https://localhost:8080/",
          "height": 535
        },
        "id": "C_cYD_KDfegX",
        "outputId": "e675f6ca-c1ae-4b97-e76a-d67e6e44a111"
      },
      "execution_count": 245,
      "outputs": [
        {
          "output_type": "execute_result",
          "data": {
            "text/plain": [
              "Text(0, 0.5, 'Cumulative Explained Variance')"
            ]
          },
          "metadata": {},
          "execution_count": 245
        },
        {
          "output_type": "display_data",
          "data": {
            "text/plain": [
              "<Figure size 720x576 with 1 Axes>"
            ],
            "image/png": "[encoded data removed]"
          },
          "metadata": {}
        }
      ]
    },
    {
      "cell_type": "code",
      "source": [
        "# We choose three components.\n",
        "pca = PCA(n_components = 3)\n",
        "# Fit the model of our data with the selected number of components. In our case it's three\n",
        "pca.fit(df_final)"
      ],
      "metadata": {
        "colab": {
          "base_uri": "https://localhost:8080/"
        },
        "id": "y2xoKlXVj94x",
        "outputId": "b09d6bbe-d6da-487f-bc97-358559384898"
      },
      "execution_count": 246,
      "outputs": [
        {
          "output_type": "execute_result",
          "data": {
            "text/plain": [
              "PCA(n_components=3)"
            ]
          },
          "metadata": {},
          "execution_count": 246
        }
      ]
    },
    {
      "cell_type": "code",
      "source": [
        "pca.transform(df_final)"
      ],
      "metadata": {
        "colab": {
          "base_uri": "https://localhost:8080/"
        },
        "id": "Kprim4sgkw9_",
        "outputId": "bf7bb1e2-ed75-47f4-ab14-733b7aab89bd"
      },
      "execution_count": 247,
      "outputs": [
        {
          "output_type": "execute_result",
          "data": {
            "text/plain": [
              "array([[-2.99769000e+00,  1.48773170e+00,  1.59104017e+00],\n",
              "       [ 3.95785056e+00,  1.77403507e+00,  2.32152214e+00],\n",
              "       [ 2.07371814e+00,  1.69210568e+00,  1.34203181e-01],\n",
              "       ...,\n",
              "       [ 2.17497092e+00, -2.99049608e-01, -3.64182466e-03],\n",
              "       [ 3.15989464e+00, -2.53593100e-01,  3.87375027e-01],\n",
              "       [ 2.08162979e+00,  1.70874262e+00,  4.32605704e-01]])"
            ]
          },
          "metadata": {},
          "execution_count": 247
        }
      ]
    },
    {
      "cell_type": "code",
      "source": [
        "scores_pca = pca.transform(df_final)"
      ],
      "metadata": {
        "id": "h_lie_rDlnl_"
      },
      "execution_count": 248,
      "outputs": []
    },
    {
      "cell_type": "markdown",
      "source": [
        "# K-means clustering with PCA"
      ],
      "metadata": {
        "id": "ONBtEGPllwCd"
      }
    },
    {
      "cell_type": "code",
      "source": [
        "# We fit K means using the transformed data from the PCA\n",
        "wcss = []\n",
        "for i in range(1, 21):\n",
        "    kmeans_pca = KMeans(n_clusters = i, init = 'k-means++', random_state = 42)\n",
        "    kmeans_pca.fit(scores_pca)\n",
        "    wcss.append(kmeans_pca.inertia_)"
      ],
      "metadata": {
        "id": "P7alvosImggD"
      },
      "execution_count": 249,
      "outputs": []
    },
    {
      "cell_type": "code",
      "source": [
        "plt.figure(figsize = (10, 8))\n",
        "plt.plot(range(1, 21), wcss, marker = 'o', linestyle = '--')\n",
        "plt.xlabel('Number of Clusters')\n",
        "plt.ylabel('WCSS')\n",
        "plt.title('K-means with PCA Clustering')\n",
        "plt.show()"
      ],
      "metadata": {
        "colab": {
          "base_uri": "https://localhost:8080/",
          "height": 518
        },
        "id": "XrIAM-yrogiy",
        "outputId": "dbca0a56-82b8-44f0-cbaf-2b1caa0d4d83"
      },
      "execution_count": 250,
      "outputs": [
        {
          "output_type": "display_data",
          "data": {
            "text/plain": [
              "<Figure size 720x576 with 1 Axes>"
            ],
            "image/png": "[encoded data removed]"
          },
          "metadata": {}
        }
      ]
    },
    {
      "cell_type": "code",
      "source": [
        "# We have chosen five clusters, so we run K-means with number of clusters equals five\n",
        "# Some initializer and random state as before\n",
        "kmeans_pca = KMeans(n_clusters = 5, init = 'k-means++', random_state = 42)\n",
        "# We fit our data with the k-means pca model\n",
        "kmeans_pca.fit(scores_pca)"
      ],
      "metadata": {
        "colab": {
          "base_uri": "https://localhost:8080/"
        },
        "id": "EGAow6q_p1C_",
        "outputId": "15636db0-4b46-4c8d-9499-560a6fea9d72"
      },
      "execution_count": 251,
      "outputs": [
        {
          "output_type": "execute_result",
          "data": {
            "text/plain": [
              "KMeans(n_clusters=5, random_state=42)"
            ]
          },
          "metadata": {},
          "execution_count": 251
        }
      ]
    },
    {
      "cell_type": "code",
      "source": [
        "# We create a new data frame with the original features and add the PCA scores and assigned clusters\n",
        "df_pca_kmeans = pd.concat([df_final.reset_index(drop = True), pd.DataFrame(scores_pca)], axis = 1)\n",
        "df_pca_kmeans.columns.values[-3: ] = ['Component 1', 'Component 2', 'Component 3']\n",
        "# The last column we add contains the pca k-means clustering labels\n",
        "df_pca_kmeans['Cluster K-means PCA'] = kmeans_pca.labels_\n",
        "df_pca_kmeans.head()"
      ],
      "metadata": {
        "colab": {
          "base_uri": "https://localhost:8080/",
          "height": 267
        },
        "id": "stcBqEfuqxlD",
        "outputId": "d12a38a7-6832-47a3-ea7c-2c817f71c35e"
      },
      "execution_count": 252,
      "outputs": [
        {
          "output_type": "execute_result",
          "data": {
            "text/plain": [
              "   duration  no_ingredient  venue  container  recipes  Component 1  \\\n",
              "0  0.027871       2.036640    3.0        2.0        1    -2.997690   \n",
              "1  0.051739       2.749350    3.0        9.0        1     3.957851   \n",
              "2 -0.068685       0.254865    3.0        7.0        0     2.073718   \n",
              "3  0.076691       0.611220    3.0        7.0        1     2.055470   \n",
              "4  0.024616       0.254865    3.0        7.0        1     2.070164   \n",
              "\n",
              "   Component 2  Component 3  Cluster K-means PCA  \n",
              "0     1.487732     1.591040                    1  \n",
              "1     1.774035     2.321522                    2  \n",
              "2     1.692106     0.134203                    2  \n",
              "3     1.696737     0.635996                    2  \n",
              "4     1.695570     0.328145                    2  "
            ],
            "text/html": [
              "\n",
              "  <div id=\"df-9afce359-7384-475c-a805-39d7b1a3df8a\">\n",
              "    <div class=\"colab-df-container\">\n",
              "      <div>\n",
              "<style scoped>\n",
              "    .dataframe tbody tr th:only-of-type {\n",
              "        vertical-align: middle;\n",
              "    }\n",
              "\n",
              "    .dataframe tbody tr th {\n",
              "        vertical-align: top;\n",
              "    }\n",
              "\n",
              "    .dataframe thead th {\n",
              "        text-align: right;\n",
              "    }\n",
              "</style>\n",
              "<table border=\"1\" class=\"dataframe\">\n",
              "  <thead>\n",
              "    <tr style=\"text-align: right;\">\n",
              "      <th></th>\n",
              "      <th>duration</th>\n",
              "      <th>no_ingredient</th>\n",
              "      <th>venue</th>\n",
              "      <th>container</th>\n",
              "      <th>recipes</th>\n",
              "      <th>Component 1</th>\n",
              "      <th>Component 2</th>\n",
              "      <th>Component 3</th>\n",
              "      <th>Cluster K-means PCA</th>\n",
              "    </tr>\n",
              "  </thead>\n",
              "  <tbody>\n",
              "    <tr>\n",
              "      <th>0</th>\n",
              "      <td>0.027871</td>\n",
              "      <td>2.036640</td>\n",
              "      <td>3.0</td>\n",
              "      <td>2.0</td>\n",
              "      <td>1</td>\n",
              "      <td>-2.997690</td>\n",
              "      <td>1.487732</td>\n",
              "      <td>1.591040</td>\n",
              "      <td>1</td>\n",
              "    </tr>\n",
              "    <tr>\n",
              "      <th>1</th>\n",
              "      <td>0.051739</td>\n",
              "      <td>2.749350</td>\n",
              "      <td>3.0</td>\n",
              "      <td>9.0</td>\n",
              "      <td>1</td>\n",
              "      <td>3.957851</td>\n",
              "      <td>1.774035</td>\n",
              "      <td>2.321522</td>\n",
              "      <td>2</td>\n",
              "    </tr>\n",
              "    <tr>\n",
              "      <th>2</th>\n",
              "      <td>-0.068685</td>\n",
              "      <td>0.254865</td>\n",
              "      <td>3.0</td>\n",
              "      <td>7.0</td>\n",
              "      <td>0</td>\n",
              "      <td>2.073718</td>\n",
              "      <td>1.692106</td>\n",
              "      <td>0.134203</td>\n",
              "      <td>2</td>\n",
              "    </tr>\n",
              "    <tr>\n",
              "      <th>3</th>\n",
              "      <td>0.076691</td>\n",
              "      <td>0.611220</td>\n",
              "      <td>3.0</td>\n",
              "      <td>7.0</td>\n",
              "      <td>1</td>\n",
              "      <td>2.055470</td>\n",
              "      <td>1.696737</td>\n",
              "      <td>0.635996</td>\n",
              "      <td>2</td>\n",
              "    </tr>\n",
              "    <tr>\n",
              "      <th>4</th>\n",
              "      <td>0.024616</td>\n",
              "      <td>0.254865</td>\n",
              "      <td>3.0</td>\n",
              "      <td>7.0</td>\n",
              "      <td>1</td>\n",
              "      <td>2.070164</td>\n",
              "      <td>1.695570</td>\n",
              "      <td>0.328145</td>\n",
              "      <td>2</td>\n",
              "    </tr>\n",
              "  </tbody>\n",
              "</table>\n",
              "</div>\n",
              "      <button class=\"colab-df-convert\" onclick=\"convertToInteractive('df-9afce359-7384-475c-a805-39d7b1a3df8a')\"\n",
              "              title=\"Convert this dataframe to an interactive table.\"\n",
              "              style=\"display:none;\">\n",
              "        \n",
              "  <svg xmlns=\"http://www.w3.org/2000/svg\" height=\"24px\"viewBox=\"0 0 24 24\"\n",
              "       width=\"24px\">\n",
              "    <path d=\"M0 0h24v24H0V0z\" fill=\"none\"/>\n",
              "    <path d=\"M18.56 5.44l.94 2.06.94-2.06 2.06-.94-2.06-.94-.94-2.06-.94 2.06-2.06.94zm-11 1L8.5 8.5l.94-2.06 2.06-.94-2.06-.94L8.5 2.5l-.94 2.06-2.06.94zm10 10l.94 2.06.94-2.06 2.06-.94-2.06-.94-.94-2.06-.94 2.06-2.06.94z\"/><path d=\"M17.41 7.96l-1.37-1.37c-.4-.4-.92-.59-1.43-.59-.52 0-1.04.2-1.43.59L10.3 9.45l-7.72 7.72c-.78.78-.78 2.05 0 2.83L4 21.41c.39.39.9.59 1.41.59.51 0 1.02-.2 1.41-.59l7.78-7.78 2.81-2.81c.8-.78.8-2.07 0-2.86zM5.41 20L4 18.59l7.72-7.72 1.47 1.35L5.41 20z\"/>\n",
              "  </svg>\n",
              "      </button>\n",
              "      \n",
              "  <style>\n",
              "    .colab-df-container {\n",
              "      display:flex;\n",
              "      flex-wrap:wrap;\n",
              "      gap: 12px;\n",
              "    }\n",
              "\n",
              "    .colab-df-convert {\n",
              "      background-color: #E8F0FE;\n",
              "      border: none;\n",
              "      border-radius: 50%;\n",
              "      cursor: pointer;\n",
              "      display: none;\n",
              "      fill: #1967D2;\n",
              "      height: 32px;\n",
              "      padding: 0 0 0 0;\n",
              "      width: 32px;\n",
              "    }\n",
              "\n",
              "    .colab-df-convert:hover {\n",
              "      background-color: #E2EBFA;\n",
              "      box-shadow: 0px 1px 2px rgba(60, 64, 67, 0.3), 0px 1px 3px 1px rgba(60, 64, 67, 0.15);\n",
              "      fill: #174EA6;\n",
              "    }\n",
              "\n",
              "    [theme=dark] .colab-df-convert {\n",
              "      background-color: #3B4455;\n",
              "      fill: #D2E3FC;\n",
              "    }\n",
              "\n",
              "    [theme=dark] .colab-df-convert:hover {\n",
              "      background-color: #434B5C;\n",
              "      box-shadow: 0px 1px 3px 1px rgba(0, 0, 0, 0.15);\n",
              "      filter: drop-shadow(0px 1px 2px rgba(0, 0, 0, 0.3));\n",
              "      fill: #FFFFFF;\n",
              "    }\n",
              "  </style>\n",
              "\n",
              "      <script>\n",
              "        const buttonEl =\n",
              "          document.querySelector('#df-9afce359-7384-475c-a805-39d7b1a3df8a button.colab-df-convert');\n",
              "        buttonEl.style.display =\n",
              "          google.colab.kernel.accessAllowed ? 'block' : 'none';\n",
              "\n",
              "        async function convertToInteractive(key) {\n",
              "          const element = document.querySelector('#df-9afce359-7384-475c-a805-39d7b1a3df8a');\n",
              "          const dataTable =\n",
              "            await google.colab.kernel.invokeFunction('convertToInteractive',\n",
              "                                                     [key], {});\n",
              "          if (!dataTable) return;\n",
              "\n",
              "          const docLinkHtml = 'Like what you see? Visit the ' +\n",
              "            '<a target=\"_blank\" href=https://colab.research.google.com/notebooks/data_table.ipynb>data table notebook</a>'\n",
              "            + ' to learn more about interactive tables.';\n",
              "          element.innerHTML = '';\n",
              "          dataTable['output_type'] = 'display_data';\n",
              "          await google.colab.output.renderOutput(dataTable, element);\n",
              "          const docLink = document.createElement('div');\n",
              "          docLink.innerHTML = docLinkHtml;\n",
              "          element.appendChild(docLink);\n",
              "        }\n",
              "      </script>\n",
              "    </div>\n",
              "  </div>\n",
              "  "
            ]
          },
          "metadata": {},
          "execution_count": 252
        }
      ]
    },
    {
      "cell_type": "code",
      "source": [
        "df_pca_kmeans['Cluster'] = df_pca_kmeans['Cluster K-means PCA'] + 1"
      ],
      "metadata": {
        "id": "UoWfk78AtRQX"
      },
      "execution_count": 253,
      "outputs": []
    },
    {
      "cell_type": "markdown",
      "source": [
        "1 - 2D Display"
      ],
      "metadata": {
        "id": "VZA80xrw2Iob"
      }
    },
    {
      "cell_type": "code",
      "source": [
        "# Plot data by PCA components. The Y axis is the first component, X axis is the second\n",
        "x_axis = df_pca_kmeans['Component 2']\n",
        "y_axis = df_pca_kmeans['Component 1']\n",
        "plt.figure(figsize = (10, 8))\n",
        "sns.scatterplot(x_axis, y_axis, hue = df_pca_kmeans['Cluster'], palette = ['green', 'red', 'blue', 'yellow', 'orange'])\n",
        "plt.title('Clusters by PCA Components')\n",
        "plt.show()"
      ],
      "metadata": {
        "colab": {
          "base_uri": "https://localhost:8080/",
          "height": 573
        },
        "id": "9ZELBY52uJos",
        "outputId": "ad9bdaf4-8b3e-4e80-b9f9-42af38ac9758"
      },
      "execution_count": 254,
      "outputs": [
        {
          "output_type": "stream",
          "name": "stderr",
          "text": [
            "/usr/local/lib/python3.7/dist-packages/seaborn/_decorators.py:43: FutureWarning: Pass the following variables as keyword args: x, y. From version 0.12, the only valid positional argument will be `data`, and passing other arguments without an explicit keyword will result in an error or misinterpretation.\n",
            "  FutureWarning\n"
          ]
        },
        {
          "output_type": "display_data",
          "data": {
            "text/plain": [
              "<Figure size 720x576 with 1 Axes>"
            ],
            "image/png": "[encoded data removed]"
          },
          "metadata": {}
        }
      ]
    },
    {
      "cell_type": "code",
      "source": [
        "# Plot data by PCA components. The Y axis is the third component, X axis is the second\n",
        "x_axis = df_pca_kmeans['Component 2']\n",
        "y_axis = df_pca_kmeans['Component 3']\n",
        "plt.figure(figsize = (10, 8))\n",
        "sns.scatterplot(x_axis, y_axis, hue = df_pca_kmeans['Cluster'], palette = ['green', 'red', 'blue', 'yellow', 'orange'])\n",
        "plt.title('Clusters by PCA Components')\n",
        "plt.show()"
      ],
      "metadata": {
        "colab": {
          "base_uri": "https://localhost:8080/",
          "height": 573
        },
        "id": "_OtWgnE22Si6",
        "outputId": "2468616d-df66-4f27-f0d5-e365589c5ca1"
      },
      "execution_count": 255,
      "outputs": [
        {
          "output_type": "stream",
          "name": "stderr",
          "text": [
            "/usr/local/lib/python3.7/dist-packages/seaborn/_decorators.py:43: FutureWarning: Pass the following variables as keyword args: x, y. From version 0.12, the only valid positional argument will be `data`, and passing other arguments without an explicit keyword will result in an error or misinterpretation.\n",
            "  FutureWarning\n"
          ]
        },
        {
          "output_type": "display_data",
          "data": {
            "text/plain": [
              "<Figure size 720x576 with 1 Axes>"
            ],
            "image/png": "[encoded data removed]"
          },
          "metadata": {}
        }
      ]
    },
    {
      "cell_type": "code",
      "source": [
        "# Plot data by PCA components. The Y axis is the first component, X axis is the third\n",
        "x_axis = df_pca_kmeans['Component 1']\n",
        "y_axis = df_pca_kmeans['Component 3']\n",
        "plt.figure(figsize = (10, 8))\n",
        "sns.scatterplot(x_axis, y_axis, hue = df_pca_kmeans['Cluster'], palette = ['green', 'red', 'blue', 'yellow', 'orange'])\n",
        "plt.title('Clusters by PCA Components')\n",
        "plt.show()"
      ],
      "metadata": {
        "colab": {
          "base_uri": "https://localhost:8080/",
          "height": 573
        },
        "id": "wdxJj3122wVg",
        "outputId": "7b47fd50-0bb9-4fd1-8799-3d1f6c796133"
      },
      "execution_count": 256,
      "outputs": [
        {
          "output_type": "stream",
          "name": "stderr",
          "text": [
            "/usr/local/lib/python3.7/dist-packages/seaborn/_decorators.py:43: FutureWarning: Pass the following variables as keyword args: x, y. From version 0.12, the only valid positional argument will be `data`, and passing other arguments without an explicit keyword will result in an error or misinterpretation.\n",
            "  FutureWarning\n"
          ]
        },
        {
          "output_type": "display_data",
          "data": {
            "text/plain": [
              "<Figure size 720x576 with 1 Axes>"
            ],
            "image/png": "[encoded data removed]"
          },
          "metadata": {}
        }
      ]
    },
    {
      "cell_type": "markdown",
      "source": [
        "2 - 3D Display"
      ],
      "metadata": {
        "id": "_pQlfbBa2FTP"
      }
    },
    {
      "cell_type": "code",
      "source": [
        "x = df_pca_kmeans['Component 1']\n",
        "y = df_pca_kmeans['Component 2']\n",
        "z = df_pca_kmeans['Component 3']\n",
        "\n",
        "fig = plt.figure()\n",
        "ax = fig.add_subplot(projection = '3d')\n",
        "\n",
        "ax.set_xlabel('Component 1')\n",
        "ax.set_ylabel('Component 2')\n",
        "ax.set_zlabel('Component 3')\n",
        "ax.scatter(x, y, z, marker = 'o', c = df_pca_kmeans['Cluster'], cmap = 'gist_rainbow')\n",
        "plt.show()"
      ],
      "metadata": {
        "colab": {
          "base_uri": "https://localhost:8080/",
          "height": 248
        },
        "id": "IFyJb3VGz1af",
        "outputId": "53153f72-2f23-43ca-874b-047fdc3fa4de"
      },
      "execution_count": 257,
      "outputs": [
        {
          "output_type": "display_data",
          "data": {
            "text/plain": [
              "<Figure size 432x288 with 1 Axes>"
            ],
            "image/png": "[encoded data removed]"
          },
          "metadata": {}
        }
      ]
    },
    {
      "cell_type": "markdown",
      "source": [
        "# K-means clustering without PCA"
      ],
      "metadata": {
        "id": "KEXcjI4D4JuF"
      }
    },
    {
      "cell_type": "code",
      "source": [
        "# We fit K means using the original data\n",
        "wcss = []\n",
        "for i in range(1, 21):\n",
        "    kmeans = KMeans(n_clusters = i, init = 'k-means++', random_state = 42)\n",
        "    kmeans.fit(df_final)\n",
        "    wcss.append(kmeans.inertia_)"
      ],
      "metadata": {
        "id": "GprdFchh4MFm"
      },
      "execution_count": 258,
      "outputs": []
    },
    {
      "cell_type": "code",
      "source": [
        "plt.figure(figsize = (10, 8))\n",
        "plt.plot(range(1, 21), wcss, marker = 'o', linestyle = '--')\n",
        "plt.xlabel('Number of Clusters')\n",
        "plt.ylabel('WCSS')\n",
        "plt.title('K-means without PCA Clustering')\n",
        "plt.show()"
      ],
      "metadata": {
        "colab": {
          "base_uri": "https://localhost:8080/",
          "height": 518
        },
        "id": "_ohbLTb-414i",
        "outputId": "5000ed59-ed79-4662-cf12-a255c1107c81"
      },
      "execution_count": 259,
      "outputs": [
        {
          "output_type": "display_data",
          "data": {
            "text/plain": [
              "<Figure size 720x576 with 1 Axes>"
            ],
            "image/png": "[encoded data removed]"
          },
          "metadata": {}
        }
      ]
    },
    {
      "cell_type": "code",
      "source": [
        "# We have chosen five clusters, so we run K-means with number of clusters equals five\n",
        "# Some initializer and random state as before\n",
        "kmeans_1 = KMeans(n_clusters = 5, init = 'k-means++', random_state = 42)\n",
        "# We fit our data with the k-means model\n",
        "kmeans_1.fit(df_final)"
      ],
      "metadata": {
        "colab": {
          "base_uri": "https://localhost:8080/"
        },
        "id": "wGgesmXc5Vfu",
        "outputId": "e329991a-b139-4642-8640-44652a5706e8"
      },
      "execution_count": 260,
      "outputs": [
        {
          "output_type": "execute_result",
          "data": {
            "text/plain": [
              "KMeans(n_clusters=5, random_state=42)"
            ]
          },
          "metadata": {},
          "execution_count": 260
        }
      ]
    },
    {
      "cell_type": "code",
      "source": [
        "# We create a new data frame with the original features and add the PCA scores and assigned clusters\n",
        "df_final2 = df_final.rename(columns = {'duration': 'Duration', 'no_ingredient': 'No_Ingredient', \n",
        "                                       'venue': 'Venue', 'container': 'Container', 'recipes': 'Recipes'}).copy()\n",
        "# The last column we add contains the pca k-means clustering labels\n",
        "df_final2['Cluster K-means'] = kmeans_1.labels_\n",
        "df_final2.head()"
      ],
      "metadata": {
        "colab": {
          "base_uri": "https://localhost:8080/",
          "height": 206
        },
        "id": "ANoRTZkM9-We",
        "outputId": "af041d70-d645-4c13-ef8e-7951b4028e2c"
      },
      "execution_count": 261,
      "outputs": [
        {
          "output_type": "execute_result",
          "data": {
            "text/plain": [
              "   Duration  No_Ingredient  Venue  Container  Recipes  Cluster K-means\n",
              "0  0.027871       2.036640    3.0        2.0        1                2\n",
              "1  0.051739       2.749350    3.0        9.0        1                4\n",
              "2 -0.068685       0.254865    3.0        7.0        0                4\n",
              "3  0.076691       0.611220    3.0        7.0        1                4\n",
              "4  0.024616       0.254865    3.0        7.0        1                4"
            ],
            "text/html": [
              "\n",
              "  <div id=\"df-44f46784-1077-4b95-b801-c50f2043554d\">\n",
              "    <div class=\"colab-df-container\">\n",
              "      <div>\n",
              "<style scoped>\n",
              "    .dataframe tbody tr th:only-of-type {\n",
              "        vertical-align: middle;\n",
              "    }\n",
              "\n",
              "    .dataframe tbody tr th {\n",
              "        vertical-align: top;\n",
              "    }\n",
              "\n",
              "    .dataframe thead th {\n",
              "        text-align: right;\n",
              "    }\n",
              "</style>\n",
              "<table border=\"1\" class=\"dataframe\">\n",
              "  <thead>\n",
              "    <tr style=\"text-align: right;\">\n",
              "      <th></th>\n",
              "      <th>Duration</th>\n",
              "      <th>No_Ingredient</th>\n",
              "      <th>Venue</th>\n",
              "      <th>Container</th>\n",
              "      <th>Recipes</th>\n",
              "      <th>Cluster K-means</th>\n",
              "    </tr>\n",
              "  </thead>\n",
              "  <tbody>\n",
              "    <tr>\n",
              "      <th>0</th>\n",
              "      <td>0.027871</td>\n",
              "      <td>2.036640</td>\n",
              "      <td>3.0</td>\n",
              "      <td>2.0</td>\n",
              "      <td>1</td>\n",
              "      <td>2</td>\n",
              "    </tr>\n",
              "    <tr>\n",
              "      <th>1</th>\n",
              "      <td>0.051739</td>\n",
              "      <td>2.749350</td>\n",
              "      <td>3.0</td>\n",
              "      <td>9.0</td>\n",
              "      <td>1</td>\n",
              "      <td>4</td>\n",
              "    </tr>\n",
              "    <tr>\n",
              "      <th>2</th>\n",
              "      <td>-0.068685</td>\n",
              "      <td>0.254865</td>\n",
              "      <td>3.0</td>\n",
              "      <td>7.0</td>\n",
              "      <td>0</td>\n",
              "      <td>4</td>\n",
              "    </tr>\n",
              "    <tr>\n",
              "      <th>3</th>\n",
              "      <td>0.076691</td>\n",
              "      <td>0.611220</td>\n",
              "      <td>3.0</td>\n",
              "      <td>7.0</td>\n",
              "      <td>1</td>\n",
              "      <td>4</td>\n",
              "    </tr>\n",
              "    <tr>\n",
              "      <th>4</th>\n",
              "      <td>0.024616</td>\n",
              "      <td>0.254865</td>\n",
              "      <td>3.0</td>\n",
              "      <td>7.0</td>\n",
              "      <td>1</td>\n",
              "      <td>4</td>\n",
              "    </tr>\n",
              "  </tbody>\n",
              "</table>\n",
              "</div>\n",
              "      <button class=\"colab-df-convert\" onclick=\"convertToInteractive('df-44f46784-1077-4b95-b801-c50f2043554d')\"\n",
              "              title=\"Convert this dataframe to an interactive table.\"\n",
              "              style=\"display:none;\">\n",
              "        \n",
              "  <svg xmlns=\"http://www.w3.org/2000/svg\" height=\"24px\"viewBox=\"0 0 24 24\"\n",
              "       width=\"24px\">\n",
              "    <path d=\"M0 0h24v24H0V0z\" fill=\"none\"/>\n",
              "    <path d=\"M18.56 5.44l.94 2.06.94-2.06 2.06-.94-2.06-.94-.94-2.06-.94 2.06-2.06.94zm-11 1L8.5 8.5l.94-2.06 2.06-.94-2.06-.94L8.5 2.5l-.94 2.06-2.06.94zm10 10l.94 2.06.94-2.06 2.06-.94-2.06-.94-.94-2.06-.94 2.06-2.06.94z\"/><path d=\"M17.41 7.96l-1.37-1.37c-.4-.4-.92-.59-1.43-.59-.52 0-1.04.2-1.43.59L10.3 9.45l-7.72 7.72c-.78.78-.78 2.05 0 2.83L4 21.41c.39.39.9.59 1.41.59.51 0 1.02-.2 1.41-.59l7.78-7.78 2.81-2.81c.8-.78.8-2.07 0-2.86zM5.41 20L4 18.59l7.72-7.72 1.47 1.35L5.41 20z\"/>\n",
              "  </svg>\n",
              "      </button>\n",
              "      \n",
              "  <style>\n",
              "    .colab-df-container {\n",
              "      display:flex;\n",
              "      flex-wrap:wrap;\n",
              "      gap: 12px;\n",
              "    }\n",
              "\n",
              "    .colab-df-convert {\n",
              "      background-color: #E8F0FE;\n",
              "      border: none;\n",
              "      border-radius: 50%;\n",
              "      cursor: pointer;\n",
              "      display: none;\n",
              "      fill: #1967D2;\n",
              "      height: 32px;\n",
              "      padding: 0 0 0 0;\n",
              "      width: 32px;\n",
              "    }\n",
              "\n",
              "    .colab-df-convert:hover {\n",
              "      background-color: #E2EBFA;\n",
              "      box-shadow: 0px 1px 2px rgba(60, 64, 67, 0.3), 0px 1px 3px 1px rgba(60, 64, 67, 0.15);\n",
              "      fill: #174EA6;\n",
              "    }\n",
              "\n",
              "    [theme=dark] .colab-df-convert {\n",
              "      background-color: #3B4455;\n",
              "      fill: #D2E3FC;\n",
              "    }\n",
              "\n",
              "    [theme=dark] .colab-df-convert:hover {\n",
              "      background-color: #434B5C;\n",
              "      box-shadow: 0px 1px 3px 1px rgba(0, 0, 0, 0.15);\n",
              "      filter: drop-shadow(0px 1px 2px rgba(0, 0, 0, 0.3));\n",
              "      fill: #FFFFFF;\n",
              "    }\n",
              "  </style>\n",
              "\n",
              "      <script>\n",
              "        const buttonEl =\n",
              "          document.querySelector('#df-44f46784-1077-4b95-b801-c50f2043554d button.colab-df-convert');\n",
              "        buttonEl.style.display =\n",
              "          google.colab.kernel.accessAllowed ? 'block' : 'none';\n",
              "\n",
              "        async function convertToInteractive(key) {\n",
              "          const element = document.querySelector('#df-44f46784-1077-4b95-b801-c50f2043554d');\n",
              "          const dataTable =\n",
              "            await google.colab.kernel.invokeFunction('convertToInteractive',\n",
              "                                                     [key], {});\n",
              "          if (!dataTable) return;\n",
              "\n",
              "          const docLinkHtml = 'Like what you see? Visit the ' +\n",
              "            '<a target=\"_blank\" href=https://colab.research.google.com/notebooks/data_table.ipynb>data table notebook</a>'\n",
              "            + ' to learn more about interactive tables.';\n",
              "          element.innerHTML = '';\n",
              "          dataTable['output_type'] = 'display_data';\n",
              "          await google.colab.output.renderOutput(dataTable, element);\n",
              "          const docLink = document.createElement('div');\n",
              "          docLink.innerHTML = docLinkHtml;\n",
              "          element.appendChild(docLink);\n",
              "        }\n",
              "      </script>\n",
              "    </div>\n",
              "  </div>\n",
              "  "
            ]
          },
          "metadata": {},
          "execution_count": 261
        }
      ]
    },
    {
      "cell_type": "code",
      "source": [
        "df_final2['Cluster'] = df_final2['Cluster K-means'] + 1"
      ],
      "metadata": {
        "id": "ozmWTPG1CArl"
      },
      "execution_count": 262,
      "outputs": []
    },
    {
      "cell_type": "code",
      "source": [
        "df_final2.info()"
      ],
      "metadata": {
        "colab": {
          "base_uri": "https://localhost:8080/"
        },
        "id": "nsv9vyaWC3TV",
        "outputId": "e132f1bd-dc64-4d79-a283-a6d7b8405234"
      },
      "execution_count": 263,
      "outputs": [
        {
          "output_type": "stream",
          "name": "stdout",
          "text": [
            "<class 'pandas.core.frame.DataFrame'>\n",
            "RangeIndex: 3757 entries, 0 to 3756\n",
            "Data columns (total 7 columns):\n",
            " #   Column           Non-Null Count  Dtype  \n",
            "---  ------           --------------  -----  \n",
            " 0   Duration         3757 non-null   float64\n",
            " 1   No_Ingredient    3757 non-null   float64\n",
            " 2   Venue            3757 non-null   float64\n",
            " 3   Container        3757 non-null   float64\n",
            " 4   Recipes          3757 non-null   int64  \n",
            " 5   Cluster K-means  3757 non-null   int32  \n",
            " 6   Cluster          3757 non-null   int32  \n",
            "dtypes: float64(4), int32(2), int64(1)\n",
            "memory usage: 176.2 KB\n"
          ]
        }
      ]
    },
    {
      "cell_type": "code",
      "source": [
        "# Plot the original data after K-means clustering\n",
        "x_axis = df_final2['No_Ingredient']\n",
        "y_axis = df_final2['Duration']\n",
        "plt.figure(figsize = (12, 9))\n",
        "sns.scatterplot(x_axis, y_axis, hue = df_final2['Cluster'], palette = ['green', 'red', 'blue', 'yellow', 'orange'])\n",
        "plt.title('Visualization of original data after K-means clustering')\n",
        "plt.show()"
      ],
      "metadata": {
        "colab": {
          "base_uri": "https://localhost:8080/",
          "height": 628
        },
        "id": "5WSU8LfC6SnH",
        "outputId": "a1b6e7e1-2d80-4543-f921-c02ad246684a"
      },
      "execution_count": 264,
      "outputs": [
        {
          "output_type": "stream",
          "name": "stderr",
          "text": [
            "/usr/local/lib/python3.7/dist-packages/seaborn/_decorators.py:43: FutureWarning: Pass the following variables as keyword args: x, y. From version 0.12, the only valid positional argument will be `data`, and passing other arguments without an explicit keyword will result in an error or misinterpretation.\n",
            "  FutureWarning\n"
          ]
        },
        {
          "output_type": "display_data",
          "data": {
            "text/plain": [
              "<Figure size 864x648 with 1 Axes>"
            ],
            "image/png": "[encoded data removed]"
          },
          "metadata": {}
        }
      ]
    }
  ]
}